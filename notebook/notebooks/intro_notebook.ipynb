{
 "cells": [
  {
   "cell_type": "markdown",
   "metadata": {
    "deletable": true,
    "editable": true
   },
   "source": [
    "Managing kubernetes objects using common resource operations with the python client\n",
    "-----------------------------------------------------------------------------------------------\n",
    "\n",
    "Some of these operations include;\n",
    "\n",
    "- **`create_xxxx`** : create a resource object. Ex **`create_namespaced_pod`** and **`create_namespaced_deployment`**, for creation of pods and deployments respectively. This performs operations similar to **`kubectl create`**.\n",
    "\n",
    "\n",
    "- **`read_xxxx`** : read the specified resource object. Ex **`read_namespaced_pod`** and **`read_namespaced_deployment`**, to read pods and deployments respectively. This performs operations similar to **`kubectl describe`**.\n",
    "\n",
    "\n",
    "- **`list_xxxx`** : retrieve all resource objects of a specific type. Ex **`list_namespaced_pod`** and **`list_namespaced_deployment`**, to list pods and deployments respectively. This performs operations similar to **`kubectl get`**.\n",
    "\n",
    "\n",
    "- **`patch_xxxx`** : apply a change to a specific field. Ex **`patch_namespaced_pod`** and **`patch_namespaced_deployment`**, to update pods and deployments respectively. This performs operations similar to **`kubectl patch`**, **`kubectl label`**, **`kubectl annotate`** etc.\n",
    "\n",
    "\n",
    "- **`replace_xxxx`** : replacing a resource object will update the resource by replacing the existing spec with the provided one. Ex **`replace_namespaced_pod`** and **`replace_namespaced_deployment`**, to update pods and deployments respectively, by creating new replacements of the entire object. This performs operations similar to **`kubectl rolling-update`**, **`kubectl apply`** and **`kubectl replace`**.\n",
    "\n",
    "\n",
    "- **`delete_xxxx`** : delete a resource. This performs operations similar to **`kubectl delete`**.\n",
    "\n",
    "\n",
    "For Further information see the Documentation for API Endpoints section in https://github.com/kubernetes-client/python/blob/master/kubernetes/README.md"
   ]
  },
  {
   "cell_type": "code",
   "execution_count": 1,
   "metadata": {},
   "outputs": [
    {
     "name": "stdout",
     "output_type": "stream",
     "text": [
      "Collecting poetry==1.5\n",
      "  Obtaining dependency information for poetry==1.5 from https://files.pythonhosted.org/packages/8b/3f/9e87a74505639a63c64b94e64aee8a1d24e10cfc7df5e3eec67708477d9b/poetry-1.5.0-py3-none-any.whl.metadata\n",
      "  Downloading poetry-1.5.0-py3-none-any.whl.metadata (7.0 kB)\n",
      "Requirement already satisfied: build<0.11.0,>=0.10.0 in /usr/local/lib/python3.10/site-packages (from poetry==1.5) (0.10.0)\n",
      "Collecting cachecontrol[filecache]<0.13.0,>=0.12.9 (from poetry==1.5)\n",
      "  Obtaining dependency information for cachecontrol[filecache]<0.13.0,>=0.12.9 from https://files.pythonhosted.org/packages/72/a2/28e0ef082f7d78253aded97933e1d7b94bab3c5be366e8afd6513de4028e/CacheControl-0.12.14-py2.py3-none-any.whl.metadata\n",
      "  Downloading CacheControl-0.12.14-py2.py3-none-any.whl.metadata (2.2 kB)\n",
      "Requirement already satisfied: cleo<3.0.0,>=2.0.0 in /usr/local/lib/python3.10/site-packages (from poetry==1.5) (2.0.1)\n",
      "Requirement already satisfied: crashtest<0.5.0,>=0.4.1 in /usr/local/lib/python3.10/site-packages (from poetry==1.5) (0.4.1)\n",
      "Requirement already satisfied: dulwich<0.22.0,>=0.21.2 in /usr/local/lib/python3.10/site-packages (from poetry==1.5) (0.21.6)\n",
      "Requirement already satisfied: filelock<4.0.0,>=3.8.0 in /usr/local/lib/python3.10/site-packages (from poetry==1.5) (3.12.4)\n",
      "Collecting html5lib<2.0,>=1.0 (from poetry==1.5)\n",
      "  Downloading html5lib-1.1-py2.py3-none-any.whl (112 kB)\n",
      "\u001b[2K     \u001b[90m━━━━━━━━━━━━━━━━━━━━━━━━━━━━━━━━━━━━━━━\u001b[0m \u001b[32m112.2/112.2 kB\u001b[0m \u001b[31m1.1 MB/s\u001b[0m eta \u001b[36m0:00:00\u001b[0ma \u001b[36m0:00:01\u001b[0m\n",
      "\u001b[?25hRequirement already satisfied: installer<0.8.0,>=0.7.0 in /usr/local/lib/python3.10/site-packages (from poetry==1.5) (0.7.0)\n",
      "Requirement already satisfied: jsonschema<5.0.0,>=4.10.0 in /usr/local/lib/python3.10/site-packages (from poetry==1.5) (4.19.1)\n",
      "Collecting keyring<24.0.0,>=23.9.0 (from poetry==1.5)\n",
      "  Downloading keyring-23.13.1-py3-none-any.whl (37 kB)\n",
      "Collecting lockfile<0.13.0,>=0.12.2 (from poetry==1.5)\n",
      "  Downloading lockfile-0.12.2-py2.py3-none-any.whl (13 kB)\n",
      "Requirement already satisfied: packaging>=20.4 in /usr/local/lib/python3.10/site-packages (from poetry==1.5) (23.2)\n",
      "Requirement already satisfied: pexpect<5.0.0,>=4.7.0 in /usr/local/lib/python3.10/site-packages (from poetry==1.5) (4.8.0)\n",
      "Requirement already satisfied: pkginfo<2.0.0,>=1.9.4 in /usr/local/lib/python3.10/site-packages (from poetry==1.5) (1.9.6)\n",
      "Requirement already satisfied: platformdirs<4.0.0,>=3.0.0 in /usr/local/lib/python3.10/site-packages (from poetry==1.5) (3.11.0)\n",
      "Collecting poetry-core==1.6.0 (from poetry==1.5)\n",
      "  Obtaining dependency information for poetry-core==1.6.0 from https://files.pythonhosted.org/packages/a6/6d/7d86771d647b033876cbaeb84678a0c2d538e1e1bfcf54bb6595b656a7cb/poetry_core-1.6.0-py3-none-any.whl.metadata\n",
      "  Downloading poetry_core-1.6.0-py3-none-any.whl.metadata (3.4 kB)\n",
      "Requirement already satisfied: poetry-plugin-export<2.0.0,>=1.3.1 in /usr/local/lib/python3.10/site-packages (from poetry==1.5) (1.5.0)\n",
      "Requirement already satisfied: pyproject-hooks<2.0.0,>=1.0.0 in /usr/local/lib/python3.10/site-packages (from poetry==1.5) (1.0.0)\n",
      "Requirement already satisfied: requests<3.0,>=2.18 in /usr/local/lib/python3.10/site-packages (from poetry==1.5) (2.31.0)\n",
      "Requirement already satisfied: requests-toolbelt<2,>=0.9.1 in /usr/local/lib/python3.10/site-packages (from poetry==1.5) (1.0.0)\n",
      "Requirement already satisfied: shellingham<2.0,>=1.5 in /usr/local/lib/python3.10/site-packages (from poetry==1.5) (1.5.3)\n",
      "Requirement already satisfied: tomli<3.0.0,>=2.0.1 in /usr/local/lib/python3.10/site-packages (from poetry==1.5) (2.0.1)\n",
      "Requirement already satisfied: tomlkit<1.0.0,>=0.11.4 in /usr/local/lib/python3.10/site-packages (from poetry==1.5) (0.12.1)\n",
      "Requirement already satisfied: trove-classifiers>=2022.5.19 in /usr/local/lib/python3.10/site-packages (from poetry==1.5) (2023.9.19)\n",
      "Requirement already satisfied: urllib3<2.0.0,>=1.26.0 in /usr/local/lib/python3.10/site-packages (from poetry==1.5) (1.26.17)\n",
      "Requirement already satisfied: virtualenv<21.0.0,>=20.22.0 in /usr/local/lib/python3.10/site-packages (from poetry==1.5) (20.24.5)\n",
      "Requirement already satisfied: msgpack>=0.5.2 in /usr/local/lib/python3.10/site-packages (from cachecontrol[filecache]<0.13.0,>=0.12.9->poetry==1.5) (1.0.7)\n",
      "Requirement already satisfied: rapidfuzz<3.0.0,>=2.2.0 in /usr/local/lib/python3.10/site-packages (from cleo<3.0.0,>=2.0.0->poetry==1.5) (2.15.2)\n",
      "Requirement already satisfied: six>=1.9 in /usr/local/lib/python3.10/site-packages (from html5lib<2.0,>=1.0->poetry==1.5) (1.16.0)\n",
      "Requirement already satisfied: webencodings in /usr/local/lib/python3.10/site-packages (from html5lib<2.0,>=1.0->poetry==1.5) (0.5.1)\n",
      "Requirement already satisfied: attrs>=22.2.0 in /usr/local/lib/python3.10/site-packages (from jsonschema<5.0.0,>=4.10.0->poetry==1.5) (23.1.0)\n",
      "Requirement already satisfied: jsonschema-specifications>=2023.03.6 in /usr/local/lib/python3.10/site-packages (from jsonschema<5.0.0,>=4.10.0->poetry==1.5) (2023.7.1)\n",
      "Requirement already satisfied: referencing>=0.28.4 in /usr/local/lib/python3.10/site-packages (from jsonschema<5.0.0,>=4.10.0->poetry==1.5) (0.30.2)\n",
      "Requirement already satisfied: rpds-py>=0.7.1 in /usr/local/lib/python3.10/site-packages (from jsonschema<5.0.0,>=4.10.0->poetry==1.5) (0.10.6)\n",
      "Requirement already satisfied: jaraco.classes in /usr/local/lib/python3.10/site-packages (from keyring<24.0.0,>=23.9.0->poetry==1.5) (3.3.0)\n",
      "Requirement already satisfied: importlib-metadata>=4.11.4 in /usr/local/lib/python3.10/site-packages (from keyring<24.0.0,>=23.9.0->poetry==1.5) (6.8.0)\n",
      "Requirement already satisfied: SecretStorage>=3.2 in /usr/local/lib/python3.10/site-packages (from keyring<24.0.0,>=23.9.0->poetry==1.5) (3.3.3)\n",
      "Requirement already satisfied: jeepney>=0.4.2 in /usr/local/lib/python3.10/site-packages (from keyring<24.0.0,>=23.9.0->poetry==1.5) (0.8.0)\n",
      "Requirement already satisfied: ptyprocess>=0.5 in /usr/local/lib/python3.10/site-packages (from pexpect<5.0.0,>=4.7.0->poetry==1.5) (0.7.0)\n",
      "Requirement already satisfied: charset-normalizer<4,>=2 in /usr/local/lib/python3.10/site-packages (from requests<3.0,>=2.18->poetry==1.5) (3.3.0)\n",
      "Requirement already satisfied: idna<4,>=2.5 in /usr/local/lib/python3.10/site-packages (from requests<3.0,>=2.18->poetry==1.5) (3.4)\n",
      "Requirement already satisfied: certifi>=2017.4.17 in /usr/local/lib/python3.10/site-packages (from requests<3.0,>=2.18->poetry==1.5) (2023.7.22)\n",
      "Requirement already satisfied: distlib<1,>=0.3.7 in /usr/local/lib/python3.10/site-packages (from virtualenv<21.0.0,>=20.22.0->poetry==1.5) (0.3.7)\n",
      "Requirement already satisfied: zipp>=0.5 in /usr/local/lib/python3.10/site-packages (from importlib-metadata>=4.11.4->keyring<24.0.0,>=23.9.0->poetry==1.5) (3.17.0)\n",
      "Requirement already satisfied: cryptography>=2.0 in /usr/local/lib/python3.10/site-packages (from SecretStorage>=3.2->keyring<24.0.0,>=23.9.0->poetry==1.5) (41.0.4)\n",
      "Requirement already satisfied: more-itertools in /usr/local/lib/python3.10/site-packages (from jaraco.classes->keyring<24.0.0,>=23.9.0->poetry==1.5) (10.1.0)\n",
      "Requirement already satisfied: cffi>=1.12 in /usr/local/lib/python3.10/site-packages (from cryptography>=2.0->SecretStorage>=3.2->keyring<24.0.0,>=23.9.0->poetry==1.5) (1.16.0)\n",
      "Requirement already satisfied: pycparser in /usr/local/lib/python3.10/site-packages (from cffi>=1.12->cryptography>=2.0->SecretStorage>=3.2->keyring<24.0.0,>=23.9.0->poetry==1.5) (2.21)\n",
      "Downloading poetry-1.5.0-py3-none-any.whl (224 kB)\n",
      "\u001b[2K   \u001b[90m━━━━━━━━━━━━━━━━━━━━━━━━━━━━━━━━━━━━━━━━\u001b[0m \u001b[32m224.5/224.5 kB\u001b[0m \u001b[31m1.6 MB/s\u001b[0m eta \u001b[36m0:00:00\u001b[0ma \u001b[36m0:00:01\u001b[0m\n",
      "\u001b[?25hDownloading poetry_core-1.6.0-py3-none-any.whl (449 kB)\n",
      "\u001b[2K   \u001b[90m━━━━━━━━━━━━━━━━━━━━━━━━━━━━━━━━━━━━━━━━\u001b[0m \u001b[32m449.8/449.8 kB\u001b[0m \u001b[31m1.9 MB/s\u001b[0m eta \u001b[36m0:00:00\u001b[0m00:01\u001b[0m00:01\u001b[0m\n",
      "\u001b[?25hDownloading CacheControl-0.12.14-py2.py3-none-any.whl (21 kB)\n",
      "\u001b[33mDEPRECATION: pytorch-lightning 1.6.3 has a non-standard dependency specifier torch>=1.8.*. pip 23.3 will enforce this behaviour change. A possible replacement is to upgrade to a newer version of pytorch-lightning or contact the author to suggest that they release a version with a conforming dependency specifiers. Discussion can be found at https://github.com/pypa/pip/issues/12063\u001b[0m\u001b[33m\n",
      "\u001b[0mInstalling collected packages: lockfile, poetry-core, html5lib, cachecontrol, keyring, poetry\n",
      "  Attempting uninstall: poetry-core\n",
      "    Found existing installation: poetry-core 1.7.0\n",
      "    Uninstalling poetry-core-1.7.0:\n",
      "      Successfully uninstalled poetry-core-1.7.0\n",
      "  Attempting uninstall: cachecontrol\n",
      "    Found existing installation: CacheControl 0.13.1\n",
      "    Uninstalling CacheControl-0.13.1:\n",
      "      Successfully uninstalled CacheControl-0.13.1\n",
      "  Attempting uninstall: keyring\n",
      "    Found existing installation: keyring 24.2.0\n",
      "    Uninstalling keyring-24.2.0:\n",
      "      Successfully uninstalled keyring-24.2.0\n",
      "  Attempting uninstall: poetry\n",
      "    Found existing installation: poetry 1.6.1\n",
      "    Uninstalling poetry-1.6.1:\n",
      "      Successfully uninstalled poetry-1.6.1\n",
      "Successfully installed cachecontrol-0.12.14 html5lib-1.1 keyring-23.13.1 lockfile-0.12.2 poetry-1.5.0 poetry-core-1.6.0\n",
      "\u001b[33mWARNING: Running pip as the 'root' user can result in broken permissions and conflicting behaviour with the system package manager. It is recommended to use a virtual environment instead: https://pip.pypa.io/warnings/venv\u001b[0m\u001b[33m\n",
      "\u001b[0m"
     ]
    }
   ],
   "source": [
    "# !pip install kubernetes\n",
    "# ! pip install jsonschema==4.18.0\n",
    "! pip install poetry==1.5"
   ]
  },
  {
   "cell_type": "code",
   "execution_count": 2,
   "metadata": {
    "collapsed": true,
    "deletable": true,
    "editable": true
   },
   "outputs": [],
   "source": [
    "from kubernetes import client, config"
   ]
  },
  {
   "cell_type": "markdown",
   "metadata": {
    "deletable": true,
    "editable": true
   },
   "source": [
    "### Load config from default location."
   ]
  },
  {
   "cell_type": "code",
   "execution_count": 10,
   "metadata": {
    "collapsed": true,
    "deletable": true,
    "editable": true
   },
   "outputs": [],
   "source": [
    "# config.load_kube_config()"
   ]
  },
  {
   "cell_type": "markdown",
   "metadata": {
    "deletable": true,
    "editable": true
   },
   "source": [
    "### Create API endpoint instance as well as API resource instances (body and specification)."
   ]
  },
  {
   "cell_type": "code",
   "execution_count": null,
   "metadata": {
    "collapsed": true,
    "deletable": true,
    "editable": true
   },
   "outputs": [],
   "source": [
    "api_instance = client.AppsV1Api()\n",
    "dep = client.V1Deployment()\n",
    "spec = client.V1DeploymentSpec()"
   ]
  },
  {
   "cell_type": "markdown",
   "metadata": {
    "deletable": true,
    "editable": true
   },
   "source": [
    "### Fill required object fields (apiVersion, kind, metadata and spec)."
   ]
  },
  {
   "cell_type": "code",
   "execution_count": null,
   "metadata": {
    "collapsed": true,
    "deletable": true,
    "editable": true
   },
   "outputs": [],
   "source": [
    "name = \"my-busybox\"\n",
    "dep.metadata = client.V1ObjectMeta(name=name)\n",
    "\n",
    "spec.template = client.V1PodTemplateSpec()\n",
    "spec.template.metadata =  client.V1ObjectMeta(name=\"busybox\")\n",
    "spec.template.metadata.labels = {\"app\":\"busybox\"}\n",
    "spec.template.spec = client.V1PodSpec()\n",
    "dep.spec = spec\n",
    "\n",
    "container = client.V1Container()\n",
    "container.image = \"busybox:1.26.1\"\n",
    "container.args = [\"sleep\", \"3600\"]\n",
    "container.name = name\n",
    "spec.template.spec.containers = [container]"
   ]
  },
  {
   "cell_type": "markdown",
   "metadata": {
    "deletable": true,
    "editable": true
   },
   "source": [
    "### Create Deployment using create_xxxx command for Deployments."
   ]
  },
  {
   "cell_type": "code",
   "execution_count": null,
   "metadata": {
    "collapsed": false,
    "deletable": true,
    "editable": true
   },
   "outputs": [],
   "source": [
    "api_instance.create_namespaced_deployment(namespace=\"default\",body=dep)"
   ]
  },
  {
   "cell_type": "markdown",
   "metadata": {
    "deletable": true,
    "editable": true
   },
   "source": [
    "### Use list_xxxx command for Deployment, to list Deployments."
   ]
  },
  {
   "cell_type": "code",
   "execution_count": null,
   "metadata": {
    "collapsed": false,
    "deletable": true,
    "editable": true
   },
   "outputs": [],
   "source": [
    "deps = api_instance.list_namespaced_deployment(namespace=\"default\")\n",
    "for item in deps.items:\n",
    "    print(\"%s  %s\" % (item.metadata.namespace, item.metadata.name))"
   ]
  },
  {
   "cell_type": "markdown",
   "metadata": {
    "deletable": true,
    "editable": true
   },
   "source": [
    "### Use read_xxxx command for Deployment, to display the detailed state of the created Deployment resource."
   ]
  },
  {
   "cell_type": "code",
   "execution_count": null,
   "metadata": {
    "collapsed": false,
    "deletable": true,
    "editable": true
   },
   "outputs": [],
   "source": [
    "api_instance.read_namespaced_deployment(namespace=\"default\",name=name)"
   ]
  },
  {
   "cell_type": "markdown",
   "metadata": {
    "deletable": true,
    "editable": true
   },
   "source": [
    "### Use patch_xxxx command for Deployment, to make specific update to the Deployment."
   ]
  },
  {
   "cell_type": "code",
   "execution_count": null,
   "metadata": {
    "collapsed": false,
    "deletable": true,
    "editable": true
   },
   "outputs": [],
   "source": [
    "dep.metadata.labels = {\"key\": \"value\"}\n",
    "api_instance.patch_namespaced_deployment(name=name, namespace=\"default\", body=dep)"
   ]
  },
  {
   "cell_type": "markdown",
   "metadata": {
    "deletable": true,
    "editable": true
   },
   "source": [
    "### Use replace_xxxx command for Deployment, to update Deployment with a completely new version of the object."
   ]
  },
  {
   "cell_type": "code",
   "execution_count": null,
   "metadata": {
    "collapsed": false,
    "deletable": true,
    "editable": true
   },
   "outputs": [],
   "source": [
    "dep.spec.template.spec.containers[0].image = \"busybox:1.26.2\"\n",
    "api_instance.replace_namespaced_deployment(name=name, namespace=\"default\", body=dep)"
   ]
  },
  {
   "cell_type": "markdown",
   "metadata": {
    "deletable": true,
    "editable": true
   },
   "source": [
    "### Use delete_xxxx command for Deployment, to delete created Deployment."
   ]
  },
  {
   "cell_type": "code",
   "execution_count": null,
   "metadata": {
    "collapsed": false,
    "deletable": true,
    "editable": true,
    "scrolled": true
   },
   "outputs": [],
   "source": [
    "api_instance.delete_namespaced_deployment(name=name, namespace=\"default\", body=client.V1DeleteOptions(propagation_policy=\"Foreground\", grace_period_seconds=5))"
   ]
  },
  {
   "cell_type": "code",
   "execution_count": null,
   "metadata": {
    "collapsed": true,
    "deletable": true,
    "editable": true
   },
   "outputs": [],
   "source": []
  }
 ],
 "metadata": {
  "kernelspec": {
   "display_name": "Python 3 (ipykernel)",
   "language": "python",
   "name": "python3"
  },
  "language_info": {
   "codemirror_mode": {
    "name": "ipython",
    "version": 3
   },
   "file_extension": ".py",
   "mimetype": "text/x-python",
   "name": "python",
   "nbconvert_exporter": "python",
   "pygments_lexer": "ipython3",
   "version": "3.10.13"
  }
 },
 "nbformat": 4,
 "nbformat_minor": 2
}
